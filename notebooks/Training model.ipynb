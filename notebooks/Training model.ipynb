{
 "cells": [
  {
   "cell_type": "code",
   "execution_count": 46,
   "id": "861a7c8c-2660-46a7-9cf9-0afe107a5ce9",
   "metadata": {
    "tags": []
   },
   "outputs": [
    {
     "ename": "ModuleNotFoundError",
     "evalue": "No module named 'catboost'",
     "output_type": "error",
     "traceback": [
      "\u001b[1;31m---------------------------------------------------------------------------\u001b[0m",
      "\u001b[1;31mModuleNotFoundError\u001b[0m                       Traceback (most recent call last)",
      "Cell \u001b[1;32mIn[46], line 16\u001b[0m\n\u001b[0;32m     14\u001b[0m \u001b[38;5;28;01mfrom\u001b[39;00m \u001b[38;5;21;01msklearn\u001b[39;00m\u001b[38;5;21;01m.\u001b[39;00m\u001b[38;5;21;01msvm\u001b[39;00m \u001b[38;5;28;01mimport\u001b[39;00m SVR\n\u001b[0;32m     15\u001b[0m \u001b[38;5;28;01mfrom\u001b[39;00m \u001b[38;5;21;01mxgboost\u001b[39;00m \u001b[38;5;28;01mimport\u001b[39;00m XGBRegressor\n\u001b[1;32m---> 16\u001b[0m \u001b[38;5;28;01mfrom\u001b[39;00m \u001b[38;5;21;01mcatboost\u001b[39;00m \u001b[38;5;28;01mimport\u001b[39;00m CatBoostRegressor\n\u001b[0;32m     17\u001b[0m \u001b[38;5;28;01mfrom\u001b[39;00m \u001b[38;5;21;01msklearn\u001b[39;00m\u001b[38;5;21;01m.\u001b[39;00m\u001b[38;5;21;01mmodel_selection\u001b[39;00m \u001b[38;5;28;01mimport\u001b[39;00m RandomizedSearchCV\n",
      "\u001b[1;31mModuleNotFoundError\u001b[0m: No module named 'catboost'"
     ]
    }
   ],
   "source": [
    "import numpy as np\n",
    "import pandas as pd\n",
    "import seaborn as sns\n",
    "import matplotlib.pyplot as plt\n",
    "%matplotlib inline\n",
    "import warnings\n",
    "warnings.filterwarnings('ignore')\n",
    "\n",
    "from sklearn.metrics import r2_score,mean_squared_error,mean_absolute_error\n",
    "from sklearn.linear_model import LinearRegression,Ridge,Lasso\n",
    "from sklearn.neighbors import KNeighborsRegressor\n",
    "from sklearn.tree import DecisionTreeRegressor\n",
    "from sklearn.ensemble import RandomForestRegressor,AdaBoostRegressor\n",
    "from sklearn.svm import SVR\n",
    "from xgboost import XGBRegressor\n",
    "# from catboost import CatBoostRegressor\n",
    "from sklearn.model_selection import RandomizedSearchCV\n"
   ]
  },
  {
   "cell_type": "code",
   "execution_count": 2,
   "id": "5e9de6f5",
   "metadata": {
    "tags": []
   },
   "outputs": [],
   "source": [
    "df=pd.read_csv(\"data/StudentsPerformance.csv\")"
   ]
  },
  {
   "cell_type": "code",
   "execution_count": 3,
   "id": "55e0b203",
   "metadata": {
    "tags": []
   },
   "outputs": [
    {
     "data": {
      "text/html": [
       "<div>\n",
       "<style scoped>\n",
       "    .dataframe tbody tr th:only-of-type {\n",
       "        vertical-align: middle;\n",
       "    }\n",
       "\n",
       "    .dataframe tbody tr th {\n",
       "        vertical-align: top;\n",
       "    }\n",
       "\n",
       "    .dataframe thead th {\n",
       "        text-align: right;\n",
       "    }\n",
       "</style>\n",
       "<table border=\"1\" class=\"dataframe\">\n",
       "  <thead>\n",
       "    <tr style=\"text-align: right;\">\n",
       "      <th></th>\n",
       "      <th>gender</th>\n",
       "      <th>race/ethnicity</th>\n",
       "      <th>parental level of education</th>\n",
       "      <th>lunch</th>\n",
       "      <th>test preparation course</th>\n",
       "      <th>math score</th>\n",
       "      <th>reading score</th>\n",
       "      <th>writing score</th>\n",
       "    </tr>\n",
       "  </thead>\n",
       "  <tbody>\n",
       "    <tr>\n",
       "      <th>0</th>\n",
       "      <td>female</td>\n",
       "      <td>group B</td>\n",
       "      <td>bachelor's degree</td>\n",
       "      <td>standard</td>\n",
       "      <td>none</td>\n",
       "      <td>72</td>\n",
       "      <td>72</td>\n",
       "      <td>74</td>\n",
       "    </tr>\n",
       "    <tr>\n",
       "      <th>1</th>\n",
       "      <td>female</td>\n",
       "      <td>group C</td>\n",
       "      <td>some college</td>\n",
       "      <td>standard</td>\n",
       "      <td>completed</td>\n",
       "      <td>69</td>\n",
       "      <td>90</td>\n",
       "      <td>88</td>\n",
       "    </tr>\n",
       "    <tr>\n",
       "      <th>2</th>\n",
       "      <td>female</td>\n",
       "      <td>group B</td>\n",
       "      <td>master's degree</td>\n",
       "      <td>standard</td>\n",
       "      <td>none</td>\n",
       "      <td>90</td>\n",
       "      <td>95</td>\n",
       "      <td>93</td>\n",
       "    </tr>\n",
       "    <tr>\n",
       "      <th>3</th>\n",
       "      <td>male</td>\n",
       "      <td>group A</td>\n",
       "      <td>associate's degree</td>\n",
       "      <td>free/reduced</td>\n",
       "      <td>none</td>\n",
       "      <td>47</td>\n",
       "      <td>57</td>\n",
       "      <td>44</td>\n",
       "    </tr>\n",
       "    <tr>\n",
       "      <th>4</th>\n",
       "      <td>male</td>\n",
       "      <td>group C</td>\n",
       "      <td>some college</td>\n",
       "      <td>standard</td>\n",
       "      <td>none</td>\n",
       "      <td>76</td>\n",
       "      <td>78</td>\n",
       "      <td>75</td>\n",
       "    </tr>\n",
       "  </tbody>\n",
       "</table>\n",
       "</div>"
      ],
      "text/plain": [
       "   gender race/ethnicity parental level of education         lunch  \\\n",
       "0  female        group B           bachelor's degree      standard   \n",
       "1  female        group C                some college      standard   \n",
       "2  female        group B             master's degree      standard   \n",
       "3    male        group A          associate's degree  free/reduced   \n",
       "4    male        group C                some college      standard   \n",
       "\n",
       "  test preparation course  math score  reading score  writing score  \n",
       "0                    none          72             72             74  \n",
       "1               completed          69             90             88  \n",
       "2                    none          90             95             93  \n",
       "3                    none          47             57             44  \n",
       "4                    none          76             78             75  "
      ]
     },
     "execution_count": 3,
     "metadata": {},
     "output_type": "execute_result"
    }
   ],
   "source": [
    "df.head()"
   ]
  },
  {
   "cell_type": "code",
   "execution_count": 6,
   "id": "eb4ab70b",
   "metadata": {
    "tags": []
   },
   "outputs": [],
   "source": [
    "# Defining dependent and independent variable.\n",
    "x=df.drop('math score',axis=1)\n",
    "y=df['math score']"
   ]
  },
  {
   "cell_type": "code",
   "execution_count": 8,
   "id": "b12eeed5-8ec1-4513-828b-80548ffb096c",
   "metadata": {
    "tags": []
   },
   "outputs": [
    {
     "name": "stdout",
     "output_type": "stream",
     "text": [
      "categories in 'gender' variable :  ['female' 'male']\n",
      "categories in 'race/ethnicity' :  ['group B' 'group C' 'group A' 'group D' 'group E']\n",
      "categories in 'parental level of education' :  [\"bachelor's degree\" 'some college' \"master's degree\" \"associate's degree\"\n",
      " 'high school' 'some high school']\n",
      "categories in 'lunch' :  ['standard' 'free/reduced']\n",
      "categories in 'test preparation course' :  ['none' 'completed']\n"
     ]
    }
   ],
   "source": [
    "# various categories \n",
    "print(\"categories in 'gender' variable : \",df['gender'].unique())\n",
    "print(\"categories in 'race/ethnicity' : \",df['race/ethnicity'].unique())\n",
    "print(\"categories in 'parental level of education' : \",df['parental level of education'].unique())\n",
    "print(\"categories in 'lunch' : \",df['lunch'].unique())\n",
    "print(\"categories in 'test preparation course' : \",df['test preparation course'].unique())"
   ]
  },
  {
   "cell_type": "markdown",
   "id": "30ad2ebd-08e7-49c0-b53a-d40d651a5018",
   "metadata": {
    "tags": []
   },
   "source": [
    "## creating column transformer"
   ]
  },
  {
   "cell_type": "code",
   "execution_count": 29,
   "id": "deb517a6-5c88-4eb2-b43a-a0c7b045b3b4",
   "metadata": {},
   "outputs": [],
   "source": [
    "numerical_feature=x.select_dtypes(exclude='object').columns\n",
    "cat_features=x.select_dtypes(include='object').columns\n",
    "\n",
    "from sklearn.preprocessing import StandardScaler,OneHotEncoder\n",
    "from sklearn.compose import ColumnTransformer\n",
    "\n",
    "numerical_transformer=StandardScaler()\n",
    "oh_transformer=OneHotEncoder()\n",
    "preprocessor=ColumnTransformer(\n",
    "[\n",
    "    (\"OneHotEncoder\",oh_transformer,cat_features),\n",
    "    (\"StandardScaler\",numerical_transformer,numerical_feature),\n",
    "]\n",
    ")\n"
   ]
  },
  {
   "cell_type": "code",
   "execution_count": 39,
   "id": "0f642970-122c-41d7-ab9e-b163f6e5b74b",
   "metadata": {
    "tags": []
   },
   "outputs": [],
   "source": [
    "x=preprocessor.fit_transform(x)"
   ]
  },
  {
   "cell_type": "code",
   "execution_count": 42,
   "id": "6629ec83-452a-45af-82b1-75685c8646e3",
   "metadata": {
    "tags": []
   },
   "outputs": [
    {
     "data": {
      "text/plain": [
       "(1000, 19)"
      ]
     },
     "execution_count": 42,
     "metadata": {},
     "output_type": "execute_result"
    }
   ],
   "source": [
    "x.shape"
   ]
  },
  {
   "cell_type": "markdown",
   "id": "888ac071-9b37-4edd-959b-a2ccc7030bee",
   "metadata": {},
   "source": [
    "## train test split"
   ]
  },
  {
   "cell_type": "code",
   "execution_count": 44,
   "id": "f4ff99e3-ffc7-4f64-9044-0c84d3230661",
   "metadata": {
    "tags": []
   },
   "outputs": [],
   "source": [
    "from sklearn.model_selection import train_test_split\n",
    "x_train,x_test,y_train,y_test=train_test_split(x,y,test_size=0.2,random_state=42)"
   ]
  },
  {
   "cell_type": "markdown",
   "id": "4eb5727d-3c96-4ba3-9037-5bc8d93ac698",
   "metadata": {},
   "source": [
    "## create a function to give performance metrics"
   ]
  },
  {
   "cell_type": "code",
   "execution_count": 45,
   "id": "990d0734-abaa-481e-a90d-7c8afbed15c3",
   "metadata": {
    "tags": []
   },
   "outputs": [],
   "source": [
    "def performace_metrics(true,predicted):\n",
    "    mae=mean_absolute_error(true,predicted)\n",
    "    mse=mean_squared_error(true,predicted)\n",
    "    rmse=np.sqrt(mse)\n",
    "    r2=r2_score(true,predicted)\n",
    "    return mae,mse,rmse,r2"
   ]
  },
  {
   "cell_type": "code",
   "execution_count": 66,
   "id": "9ff598d0-7eab-435b-a807-1c4ee1e783f6",
   "metadata": {
    "tags": []
   },
   "outputs": [
    {
     "name": "stdout",
     "output_type": "stream",
     "text": [
      "linear Regression\n",
      "Model Performance for Training set \n",
      "Mean Absolute Error:28.3445\n",
      "Mean Squared Error:4.2691\n",
      "Root Mean Squared Error:5.3240\n",
      "R2_score:0.8743\n",
      "---------------------------------------------------------------\n",
      "Model Performance for Testing set \n",
      "Mean Absolute Error:28.9156\n",
      "Mean Squared Error:4.2053\n",
      "Root Mean Squared Error:5.3773\n",
      "R2_score:0.8812\n",
      "=================================================================\n",
      "Ridge\n",
      "Model Performance for Training set \n",
      "Mean Absolute Error:28.3378\n",
      "Mean Squared Error:4.2650\n",
      "Root Mean Squared Error:5.3233\n",
      "R2_score:0.8743\n",
      "---------------------------------------------------------------\n",
      "Model Performance for Testing set \n",
      "Mean Absolute Error:29.0563\n",
      "Mean Squared Error:4.2111\n",
      "Root Mean Squared Error:5.3904\n",
      "R2_score:0.8806\n",
      "=================================================================\n",
      "Lasso\n",
      "Model Performance for Training set \n",
      "Mean Absolute Error:43.4784\n",
      "Mean Squared Error:5.2063\n",
      "Root Mean Squared Error:6.5938\n",
      "R2_score:0.8071\n",
      "---------------------------------------------------------------\n",
      "Model Performance for Testing set \n",
      "Mean Absolute Error:42.5064\n",
      "Mean Squared Error:5.1579\n",
      "Root Mean Squared Error:6.5197\n",
      "R2_score:0.8253\n",
      "=================================================================\n",
      "K-Neighbours\n",
      "Model Performance for Training set \n",
      "Mean Absolute Error:32.6414\n",
      "Mean Squared Error:4.5217\n",
      "Root Mean Squared Error:5.7133\n",
      "R2_score:0.8552\n",
      "---------------------------------------------------------------\n",
      "Model Performance for Testing set \n",
      "Mean Absolute Error:52.4350\n",
      "Mean Squared Error:5.6110\n",
      "Root Mean Squared Error:7.2412\n",
      "R2_score:0.7845\n",
      "=================================================================\n",
      "Decision Tree Regression\n",
      "Model Performance for Training set \n",
      "Mean Absolute Error:0.0781\n",
      "Mean Squared Error:0.0187\n",
      "Root Mean Squared Error:0.2795\n",
      "R2_score:0.9997\n",
      "---------------------------------------------------------------\n",
      "Model Performance for Testing set \n",
      "Mean Absolute Error:61.6750\n",
      "Mean Squared Error:6.1050\n",
      "Root Mean Squared Error:7.8533\n",
      "R2_score:0.7465\n",
      "=================================================================\n",
      "Random Forest Regression\n",
      "Model Performance for Training set \n",
      "Mean Absolute Error:5.3042\n",
      "Mean Squared Error:1.8263\n",
      "Root Mean Squared Error:2.3031\n",
      "R2_score:0.9765\n",
      "---------------------------------------------------------------\n",
      "Model Performance for Testing set \n",
      "Mean Absolute Error:36.1944\n",
      "Mean Squared Error:4.6301\n",
      "Root Mean Squared Error:6.0162\n",
      "R2_score:0.8513\n",
      "=================================================================\n",
      "AdaBoost Regression\n",
      "Model Performance for Training set \n",
      "Mean Absolute Error:33.3536\n",
      "Mean Squared Error:4.7432\n",
      "Root Mean Squared Error:5.7753\n",
      "R2_score:0.8521\n",
      "---------------------------------------------------------------\n",
      "Model Performance for Testing set \n",
      "Mean Absolute Error:37.7876\n",
      "Mean Squared Error:4.7961\n",
      "Root Mean Squared Error:6.1472\n",
      "R2_score:0.8447\n",
      "=================================================================\n",
      "XGBoost Regressor\n",
      "Model Performance for Training set \n",
      "Mean Absolute Error:1.0146\n",
      "Mean Squared Error:0.6875\n",
      "Root Mean Squared Error:1.0073\n",
      "R2_score:0.9955\n",
      "---------------------------------------------------------------\n",
      "Model Performance for Testing set \n",
      "Mean Absolute Error:41.9037\n",
      "Mean Squared Error:5.0577\n",
      "Root Mean Squared Error:6.4733\n",
      "R2_score:0.8278\n",
      "=================================================================\n"
     ]
    }
   ],
   "source": [
    "models={\n",
    "    \"linear Regression\":LinearRegression(),\n",
    "    \"Ridge\":Ridge(),\n",
    "    \"Lasso\":Lasso(),\n",
    "    \"K-Neighbours\":KNeighborsRegressor(),\n",
    "    \"Decision Tree Regression\":DecisionTreeRegressor(),\n",
    "    \"Random Forest Regression\":RandomForestRegressor(),\n",
    "    \"AdaBoost Regression\":AdaBoostRegressor(),\n",
    "    \"XGBoost Regressor\":XGBRegressor(),\n",
    "    # \"CatBoost Regressor\":CatBoostRegresssor()\n",
    "}\n",
    "model_list=[]\n",
    "r2_list=[]\n",
    "\n",
    "for i in range(len(list(models))):\n",
    "    model=list(models.values())[i]\n",
    "    model.fit(x_train,y_train)   #train model\n",
    "    \n",
    "    #predict\n",
    "    y_train_pedict=model.predict(x_train)\n",
    "    y_test_predict=model.predict(x_test)\n",
    "    \n",
    "    #performance metrics evaluation\n",
    "    model_train_mae,model_train_mse,model_train_rmse,model_train_r2=performace_metrics(y_train,y_train_pedict)\n",
    "    model_test_mae,model_test_mse,model_test_rmse,model_test_r2=performace_metrics(y_test,y_test_predict)\n",
    "    \n",
    "    print(list(models.keys())[i])\n",
    "    model_list.append(list(models.keys())[i])\n",
    "    print(\"Model Performance for Training set \")\n",
    "    print(\"Mean Absolute Error:{:.4f}\".format(model_train_mae))\n",
    "    print(\"Mean Squared Error:{:.4f}\".format(model_train_mse))\n",
    "    print(\"Root Mean Squared Error:{:.4f}\".format(model_train_rmse))\n",
    "    print(\"R2_score:{:.4f}\".format(model_train_r2))\n",
    "    \n",
    "    print(\"---------------------------------------------------------------\")\n",
    "    \n",
    "    print(\"Model Performance for Testing set \")\n",
    "    print(\"Mean Absolute Error:{:.4f}\".format(model_test_mae))\n",
    "    print(\"Mean Squared Error:{:.4f}\".format(model_test_mse))\n",
    "    print(\"Root Mean Squared Error:{:.4f}\".format(model_test_rmse))\n",
    "    print(\"R2_score:{:.4f}\".format(model_test_r2))\n",
    "    r2_list.append(model_test_r2)\n",
    "\n",
    "    print('='*65)\n",
    "    \n",
    "    "
   ]
  },
  {
   "cell_type": "code",
   "execution_count": 71,
   "id": "9e0f711b-cd66-4d63-b95c-a004f3489852",
   "metadata": {
    "tags": []
   },
   "outputs": [
    {
     "data": {
      "text/html": [
       "<div>\n",
       "<style scoped>\n",
       "    .dataframe tbody tr th:only-of-type {\n",
       "        vertical-align: middle;\n",
       "    }\n",
       "\n",
       "    .dataframe tbody tr th {\n",
       "        vertical-align: top;\n",
       "    }\n",
       "\n",
       "    .dataframe thead th {\n",
       "        text-align: right;\n",
       "    }\n",
       "</style>\n",
       "<table border=\"1\" class=\"dataframe\">\n",
       "  <thead>\n",
       "    <tr style=\"text-align: right;\">\n",
       "      <th></th>\n",
       "      <th>models</th>\n",
       "      <th>r2_score</th>\n",
       "    </tr>\n",
       "  </thead>\n",
       "  <tbody>\n",
       "    <tr>\n",
       "      <th>0</th>\n",
       "      <td>linear Regression</td>\n",
       "      <td>0.881171</td>\n",
       "    </tr>\n",
       "    <tr>\n",
       "      <th>1</th>\n",
       "      <td>Ridge</td>\n",
       "      <td>0.880593</td>\n",
       "    </tr>\n",
       "    <tr>\n",
       "      <th>5</th>\n",
       "      <td>Random Forest Regression</td>\n",
       "      <td>0.851259</td>\n",
       "    </tr>\n",
       "    <tr>\n",
       "      <th>6</th>\n",
       "      <td>AdaBoost Regression</td>\n",
       "      <td>0.844712</td>\n",
       "    </tr>\n",
       "    <tr>\n",
       "      <th>7</th>\n",
       "      <td>XGBoost Regressor</td>\n",
       "      <td>0.827797</td>\n",
       "    </tr>\n",
       "    <tr>\n",
       "      <th>2</th>\n",
       "      <td>Lasso</td>\n",
       "      <td>0.825320</td>\n",
       "    </tr>\n",
       "    <tr>\n",
       "      <th>3</th>\n",
       "      <td>K-Neighbours</td>\n",
       "      <td>0.784518</td>\n",
       "    </tr>\n",
       "    <tr>\n",
       "      <th>4</th>\n",
       "      <td>Decision Tree Regression</td>\n",
       "      <td>0.746546</td>\n",
       "    </tr>\n",
       "  </tbody>\n",
       "</table>\n",
       "</div>"
      ],
      "text/plain": [
       "                     models  r2_score\n",
       "0         linear Regression  0.881171\n",
       "1                     Ridge  0.880593\n",
       "5  Random Forest Regression  0.851259\n",
       "6       AdaBoost Regression  0.844712\n",
       "7         XGBoost Regressor  0.827797\n",
       "2                     Lasso  0.825320\n",
       "3              K-Neighbours  0.784518\n",
       "4  Decision Tree Regression  0.746546"
      ]
     },
     "execution_count": 71,
     "metadata": {},
     "output_type": "execute_result"
    }
   ],
   "source": [
    "pd.DataFrame(list(zip(model_list,r2_list)),columns=[\"models\",\"r2_score\"]).sort_values(by=[\"r2_score\"],ascending=False)"
   ]
  },
  {
   "cell_type": "code",
   "execution_count": 68,
   "id": "1895075e-9e4c-4d90-97a5-982a2522b50e",
   "metadata": {
    "tags": []
   },
   "outputs": [
    {
     "data": {
      "text/plain": [
       "[0.8811710947341137,\n",
       " 0.880593148502874,\n",
       " 0.8253197323627852,\n",
       " 0.7845181853747702,\n",
       " 0.7465463732809947,\n",
       " 0.8512589367859509,\n",
       " 0.8447117686504847,\n",
       " 0.8277965653186071]"
      ]
     },
     "execution_count": 68,
     "metadata": {},
     "output_type": "execute_result"
    }
   ],
   "source": []
  },
  {
   "cell_type": "code",
   "execution_count": null,
   "id": "e5c5ab88-39e3-4700-b2da-e59770ab7f75",
   "metadata": {},
   "outputs": [],
   "source": []
  }
 ],
 "metadata": {
  "kernelspec": {
   "display_name": "Python 3 (ipykernel)",
   "language": "python",
   "name": "python3"
  },
  "language_info": {
   "codemirror_mode": {
    "name": "ipython",
    "version": 3
   },
   "file_extension": ".py",
   "mimetype": "text/x-python",
   "name": "python",
   "nbconvert_exporter": "python",
   "pygments_lexer": "ipython3",
   "version": "3.11.5"
  }
 },
 "nbformat": 4,
 "nbformat_minor": 5
}
